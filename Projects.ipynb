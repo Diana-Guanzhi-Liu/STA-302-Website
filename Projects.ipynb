{
  "cells": [
    {
      "cell_type": "raw",
      "metadata": {},
      "source": [
        "---\n",
        "title: \"Projects\"\n",
        "---"
      ],
      "id": "404c6540"
    },
    {
      "cell_type": "markdown",
      "metadata": {},
      "source": [
        "# STA 302 Papers\n",
        "\n",
        "https://github.com/Diana-Guanzhi-Liu/Analysis-of-Toronto-Marriages\n",
        "\n",
        "```{=html}\n",
        "<iframe width=\"900\" height=\"700\" src=\"/paper (1).pdf\"</iframe>\n",
        "```\n",
        "\n",
        "\n",
        "https://github.com/Diana-Guanzhi-Liu/Which-Undergraduate-Majors-Make-the-MostMoney-\n",
        "\n",
        "```{=html}\n",
        "<iframe width=\"900\" height=\"700\" src=\"/paper.pdf\"</iframe>\n",
        "```\n",
        "\n",
        "```{html}\n",
        " <section>\n",
        " <h2>Exploding Kittens</h2>\n",
        "   <p>Hilarious card game for the whole family. Bla dee bla, dee bla dee bla.Bla dee bla, dee bla dee bla.</p>\n",
        " </section>\n",
        "```"
      ],
      "id": "f63f0b4d"
    }
  ],
  "metadata": {
    "kernelspec": {
      "display_name": "Python 3",
      "language": "python",
      "name": "python3"
    }
  },
  "nbformat": 4,
  "nbformat_minor": 5
}